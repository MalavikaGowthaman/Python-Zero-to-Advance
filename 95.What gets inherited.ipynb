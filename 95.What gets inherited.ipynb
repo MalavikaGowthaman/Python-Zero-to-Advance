{
 "cells": [
  {
   "cell_type": "code",
   "execution_count": 2,
   "metadata": {},
   "outputs": [
    {
     "name": "stdout",
     "output_type": "stream",
     "text": [
      "Inside constructor\n",
      "Buying phone\n"
     ]
    }
   ],
   "source": [
    "class phone:\n",
    "    def __init__(self,price,brand,camera):\n",
    "        print(\"Inside constructor\")\n",
    "        self.price = price\n",
    "        self.brand = brand\n",
    "        self.camera = camera\n",
    "        \n",
    "    def buy(self):\n",
    "        print(\"Buying phone\")\n",
    "        \n",
    "class Smartphone(phone): \n",
    "    pass\n",
    "\n",
    "s= Smartphone(100000,\"apple\",4) # inherited so input is given for smartphone\n",
    "s.buy()\n",
    "\n"
   ]
  },
  {
   "cell_type": "code",
   "execution_count": 4,
   "metadata": {},
   "outputs": [
    {
     "name": "stdout",
     "output_type": "stream",
     "text": [
      "Inside SmartPhone constructor\n",
      "Buying phone\n"
     ]
    }
   ],
   "source": [
    "class phone:\n",
    "    def __init__(self,price,brand,camera):\n",
    "        print(\"Inside constructor\")\n",
    "        self.price = price\n",
    "        self.brand = brand\n",
    "        self.camera = camera\n",
    "        \n",
    "    def buy(self):\n",
    "        print(\"Buying phone\")\n",
    "        \n",
    "class Smartphone(phone): \n",
    "    def __init__(self, os, ram):\n",
    "        self.os = os\n",
    "        self.ram = ram\n",
    "        print(\"Inside SmartPhone constructor\")\n",
    "        \n",
    "\n",
    "s= Smartphone(\"IOS\",520) # now constructor is created for smartphone\n",
    "s.buy()\n",
    "\n"
   ]
  },
  {
   "cell_type": "code",
   "execution_count": 6,
   "metadata": {},
   "outputs": [
    {
     "name": "stdout",
     "output_type": "stream",
     "text": [
      "Inside SmartPhone constructor\n"
     ]
    },
    {
     "ename": "AttributeError",
     "evalue": "'Smartphone' object has no attribute 'brand'",
     "output_type": "error",
     "traceback": [
      "\u001b[1;31m---------------------------------------------------------------------------\u001b[0m",
      "\u001b[1;31mAttributeError\u001b[0m                            Traceback (most recent call last)",
      "Cell \u001b[1;32mIn[6], line 19\u001b[0m\n\u001b[0;32m     15\u001b[0m         \u001b[38;5;28mprint\u001b[39m(\u001b[38;5;124m\"\u001b[39m\u001b[38;5;124mInside SmartPhone constructor\u001b[39m\u001b[38;5;124m\"\u001b[39m)\n\u001b[0;32m     18\u001b[0m s\u001b[38;5;241m=\u001b[39m Smartphone(\u001b[38;5;124m\"\u001b[39m\u001b[38;5;124mIOS\u001b[39m\u001b[38;5;124m\"\u001b[39m,\u001b[38;5;241m520\u001b[39m) \u001b[38;5;66;03m# now constructor is created for smartphone\u001b[39;00m\n\u001b[1;32m---> 19\u001b[0m s\u001b[38;5;241m.\u001b[39mbrand()\n",
      "\u001b[1;31mAttributeError\u001b[0m: 'Smartphone' object has no attribute 'brand'"
     ]
    }
   ],
   "source": [
    "class phone:\n",
    "    def __init__(self,price,brand,camera):\n",
    "        print(\"Inside constructor\")\n",
    "        self.price = price\n",
    "        self.brand = brand\n",
    "        self.camera = camera\n",
    "        \n",
    "    def buy(self):\n",
    "        print(\"Buying phone\")\n",
    "        \n",
    "class Smartphone(phone): \n",
    "    def __init__(self, os, ram):\n",
    "        self.os = os\n",
    "        self.ram = ram\n",
    "        print(\"Inside SmartPhone constructor\")\n",
    "        \n",
    "\n",
    "s= Smartphone(\"IOS\",520) # now constructor is created for smartphone\n",
    "s.brand()\n",
    "\n"
   ]
  },
  {
   "cell_type": "markdown",
   "metadata": {},
   "source": [
    "#### to allowed to call the another constructor by child"
   ]
  },
  {
   "cell_type": "code",
   "execution_count": 7,
   "metadata": {},
   "outputs": [
    {
     "name": "stdout",
     "output_type": "stream",
     "text": [
      "Inside Phone constructor\n",
      "200000\n"
     ]
    }
   ],
   "source": [
    "class Phone:\n",
    "  def __init__(self, price, brand, camera):\n",
    "    print(\"Inside Phone constructor\")\n",
    "    self.__price = price\n",
    "    self.brand = brand\n",
    "    self.camera = camera\n",
    "\n",
    "  def get_price(self):\n",
    "     return self.__price\n",
    "\n",
    "\n",
    "  def buy(self):\n",
    "    print(\"Buying a Phone\")\n",
    "\n",
    "\n",
    "class SmartPhone(Phone):\n",
    "    def print_price(self):\n",
    "       print(self.get_price())\n",
    "\n",
    "\n",
    "S  = SmartPhone(200000, \"apple\", 3)\n",
    "S.print_price()"
   ]
  },
  {
   "cell_type": "code",
   "execution_count": null,
   "metadata": {},
   "outputs": [],
   "source": []
  }
 ],
 "metadata": {
  "kernelspec": {
   "display_name": "base",
   "language": "python",
   "name": "python3"
  },
  "language_info": {
   "codemirror_mode": {
    "name": "ipython",
    "version": 3
   },
   "file_extension": ".py",
   "mimetype": "text/x-python",
   "name": "python",
   "nbconvert_exporter": "python",
   "pygments_lexer": "ipython3",
   "version": "3.12.4"
  }
 },
 "nbformat": 4,
 "nbformat_minor": 2
}
