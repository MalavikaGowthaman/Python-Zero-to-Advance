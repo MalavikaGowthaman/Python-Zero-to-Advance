{
 "cells": [
  {
   "cell_type": "markdown",
   "metadata": {},
   "source": [
    "# Inheritance in OOP\n",
    "\n",
    "Inheritance allows us to define a class that inherits all the methods and properties from another class. Parent class is the class being inherited from, also called base class. Child class is the class that inherits from another class, also called derived class.\n",
    "\n",
    "- non private attribute\n",
    "- non private methods"
   ]
  },
  {
   "cell_type": "markdown",
   "metadata": {},
   "source": [
    "Eg - Coursera\n",
    "\n",
    "Student and Instructor\n",
    "\n",
    "for student\n",
    "\n",
    "- register\n",
    "- login \n",
    "- enroll\n",
    "\n",
    "\n",
    "for instrutor\n",
    "\n",
    "- register\n",
    "- login\n",
    "- create\n",
    "\n",
    "\n",
    "#### so here the register and login is common can able to use one class as common and to do inheritance."
   ]
  },
  {
   "cell_type": "code",
   "execution_count": 15,
   "metadata": {},
   "outputs": [],
   "source": [
    "class user:  # parent class\n",
    "    def __init__(self):\n",
    "        self.name = \"Malu\"\n",
    "    \n",
    "    def login(self):\n",
    "        print(\"Login done!\")\n",
    "        \n",
    "    def register(self):\n",
    "        print(\"Register done!\")\n",
    "        \n",
    "# for giving inheritance need to give \"class classname(commonclassname):\"\n",
    "        \n",
    "class Student(user): # child class\n",
    "    def __init__(self):\n",
    "        self.id = 100\n",
    "        \n",
    "    def enroll(self):\n",
    "        print(\"Course Enrolled!\")\n",
    "        \n",
    "\n",
    "class Instructor(user): # child class\n",
    "    def __init__(self):\n",
    "        self.id_no = 10\n",
    "        \n",
    "    def Create(self):\n",
    "        print(\"Course Created!\")\n"
   ]
  },
  {
   "cell_type": "code",
   "execution_count": 16,
   "metadata": {},
   "outputs": [],
   "source": [
    "s = Student()"
   ]
  },
  {
   "cell_type": "code",
   "execution_count": 17,
   "metadata": {},
   "outputs": [
    {
     "data": {
      "text/plain": [
       "100"
      ]
     },
     "execution_count": 17,
     "metadata": {},
     "output_type": "execute_result"
    }
   ],
   "source": [
    "s.id"
   ]
  },
  {
   "cell_type": "code",
   "execution_count": 18,
   "metadata": {},
   "outputs": [
    {
     "name": "stdout",
     "output_type": "stream",
     "text": [
      "Course Enrolled!\n"
     ]
    }
   ],
   "source": [
    "s.enroll()"
   ]
  },
  {
   "cell_type": "code",
   "execution_count": 19,
   "metadata": {},
   "outputs": [
    {
     "name": "stdout",
     "output_type": "stream",
     "text": [
      "Login done!\n"
     ]
    }
   ],
   "source": [
    "s.login()"
   ]
  },
  {
   "cell_type": "code",
   "execution_count": 20,
   "metadata": {},
   "outputs": [],
   "source": [
    "i= Instructor()"
   ]
  },
  {
   "cell_type": "code",
   "execution_count": 21,
   "metadata": {},
   "outputs": [
    {
     "name": "stdout",
     "output_type": "stream",
     "text": [
      "Course Created!\n"
     ]
    }
   ],
   "source": [
    "i.Create()"
   ]
  },
  {
   "cell_type": "code",
   "execution_count": 22,
   "metadata": {},
   "outputs": [
    {
     "name": "stdout",
     "output_type": "stream",
     "text": [
      "Login done!\n"
     ]
    }
   ],
   "source": [
    "i.login()"
   ]
  },
  {
   "cell_type": "code",
   "execution_count": 33,
   "metadata": {},
   "outputs": [],
   "source": [
    "class user:  # parent class\n",
    "    def __init__(self):\n",
    "        self.name = \"Malu\"\n",
    "    \n",
    "    def login(self):\n",
    "        print(\"Login done!\")\n",
    "        \n",
    "    def register(self):\n",
    "        print(\"Register done!\")\n",
    "        \n",
    "# for giving inheritance need to give \"class classname(commonclassname):\"\n",
    "        \n",
    "class Student(user): # child class\n",
    "    def __init__(self):\n",
    "        self.id = 100\n",
    "        \n",
    "    def enroll(self):\n",
    "        print(\"Course Enrolled!\")"
   ]
  },
  {
   "cell_type": "code",
   "execution_count": 34,
   "metadata": {},
   "outputs": [],
   "source": [
    "s = Student()"
   ]
  },
  {
   "cell_type": "code",
   "execution_count": 35,
   "metadata": {},
   "outputs": [
    {
     "ename": "AttributeError",
     "evalue": "'Student' object has no attribute 'name'",
     "output_type": "error",
     "traceback": [
      "\u001b[1;31m---------------------------------------------------------------------------\u001b[0m",
      "\u001b[1;31mAttributeError\u001b[0m                            Traceback (most recent call last)",
      "Cell \u001b[1;32mIn[35], line 1\u001b[0m\n\u001b[1;32m----> 1\u001b[0m s\u001b[38;5;241m.\u001b[39mname\n",
      "\u001b[1;31mAttributeError\u001b[0m: 'Student' object has no attribute 'name'"
     ]
    }
   ],
   "source": [
    "s.name"
   ]
  },
  {
   "cell_type": "markdown",
   "metadata": {},
   "source": [
    "### here not able to access the class because it in inheritance the class will first check the inheritance construtor first in inherited constructor there is no name"
   ]
  },
  {
   "cell_type": "code",
   "execution_count": 36,
   "metadata": {},
   "outputs": [],
   "source": [
    "class user:  # parent class\n",
    "    def __init__(self):\n",
    "        self.name = \"Malu\"\n",
    "    \n",
    "    def login(self):\n",
    "        print(\"Login done!\")\n",
    "        \n",
    "    def register(self):\n",
    "        print(\"Register done!\")\n",
    "        \n",
    "# for giving inheritance need to give \"class classname(commonclassname):\"\n",
    "        \n",
    "class Student(user): # child class\n",
    "    # def __init__(self):\n",
    "    #     self.id = 100\n",
    "        \n",
    "    def enroll(self):\n",
    "        print(\"Course Enrolled!\")"
   ]
  },
  {
   "cell_type": "code",
   "execution_count": 37,
   "metadata": {},
   "outputs": [],
   "source": [
    "s = Student()"
   ]
  },
  {
   "cell_type": "code",
   "execution_count": 38,
   "metadata": {},
   "outputs": [
    {
     "data": {
      "text/plain": [
       "'Malu'"
      ]
     },
     "execution_count": 38,
     "metadata": {},
     "output_type": "execute_result"
    }
   ],
   "source": [
    "s.name"
   ]
  },
  {
   "cell_type": "markdown",
   "metadata": {},
   "source": [
    "#### child class will get the first priority"
   ]
  },
  {
   "cell_type": "code",
   "execution_count": null,
   "metadata": {},
   "outputs": [],
   "source": []
  }
 ],
 "metadata": {
  "kernelspec": {
   "display_name": "base",
   "language": "python",
   "name": "python3"
  },
  "language_info": {
   "codemirror_mode": {
    "name": "ipython",
    "version": 3
   },
   "file_extension": ".py",
   "mimetype": "text/x-python",
   "name": "python",
   "nbconvert_exporter": "python",
   "pygments_lexer": "ipython3",
   "version": "3.12.4"
  }
 },
 "nbformat": 4,
 "nbformat_minor": 2
}
