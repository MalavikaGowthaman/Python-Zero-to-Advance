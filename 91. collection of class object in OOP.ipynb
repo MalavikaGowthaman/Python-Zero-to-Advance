{
 "cells": [
  {
   "cell_type": "code",
   "execution_count": 3,
   "metadata": {},
   "outputs": [],
   "source": [
    "class person:\n",
    "    def __init__(self,name,country):\n",
    "        self.name = name\n",
    "        self.country = country\n",
    "        \n",
    "p1 = person(\"Abi\",\"UK\")\n",
    "p2 = person(\"Hari\",\"India\")\n",
    "p3 = person(\"Ruba\",\"USA\")"
   ]
  },
  {
   "cell_type": "code",
   "execution_count": 8,
   "metadata": {},
   "outputs": [
    {
     "data": {
      "text/plain": [
       "(<__main__.person at 0x28f3d017140>,\n",
       " <__main__.person at 0x28f3d0461e0>,\n",
       " <__main__.person at 0x28f3d046d80>)"
      ]
     },
     "execution_count": 8,
     "metadata": {},
     "output_type": "execute_result"
    }
   ],
   "source": [
    "L = (p1,p2,p3)\n",
    "L"
   ]
  },
  {
   "cell_type": "code",
   "execution_count": 5,
   "metadata": {},
   "outputs": [
    {
     "name": "stdout",
     "output_type": "stream",
     "text": [
      "Abi UK\n",
      "Hari India\n",
      "Ruba USA\n"
     ]
    }
   ],
   "source": [
    "for i in L:\n",
    "    print(i.name, i.country)"
   ]
  },
  {
   "cell_type": "code",
   "execution_count": 9,
   "metadata": {},
   "outputs": [
    {
     "data": {
      "text/plain": [
       "[<__main__.person at 0x28f3d017140>,\n",
       " <__main__.person at 0x28f3d0461e0>,\n",
       " <__main__.person at 0x28f3d046d80>]"
      ]
     },
     "execution_count": 9,
     "metadata": {},
     "output_type": "execute_result"
    }
   ],
   "source": [
    "L = [p1,p2,p3]\n",
    "L"
   ]
  },
  {
   "cell_type": "code",
   "execution_count": 10,
   "metadata": {},
   "outputs": [
    {
     "name": "stdout",
     "output_type": "stream",
     "text": [
      "Abi UK\n",
      "Hari India\n",
      "Ruba USA\n"
     ]
    }
   ],
   "source": [
    "for i in L:\n",
    "    print(i.name, i.country)"
   ]
  },
  {
   "cell_type": "code",
   "execution_count": null,
   "metadata": {},
   "outputs": [],
   "source": []
  }
 ],
 "metadata": {
  "kernelspec": {
   "display_name": "base",
   "language": "python",
   "name": "python3"
  },
  "language_info": {
   "codemirror_mode": {
    "name": "ipython",
    "version": 3
   },
   "file_extension": ".py",
   "mimetype": "text/x-python",
   "name": "python",
   "nbconvert_exporter": "python",
   "pygments_lexer": "ipython3",
   "version": "3.12.4"
  }
 },
 "nbformat": 4,
 "nbformat_minor": 2
}
