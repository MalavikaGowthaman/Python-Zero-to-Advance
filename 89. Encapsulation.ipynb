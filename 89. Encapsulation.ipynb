{
 "cells": [
  {
   "cell_type": "markdown",
   "metadata": {},
   "source": [
    "### Encapsulation\n",
    "\n",
    "Encapsulation is a fundamental object-oriented principle in Python. It protects your classes from accidental changes or deletions and promotes code reusability and maintainability"
   ]
  },
  {
   "cell_type": "code",
   "execution_count": 21,
   "metadata": {},
   "outputs": [],
   "source": [
    "class Atm:\n",
    "\n",
    "  #constructor(special function) - superpower\n",
    "  def __init__(self):\n",
    "    self.pin = \"\"\n",
    "    self.balance = 0\n",
    "    # self.menu()\n",
    "\n",
    "\n",
    "  def menu(self):\n",
    "    user_input = input(\n",
    "        \"\"\"\n",
    "        Hi how can i help you?\n",
    "\n",
    "        1. Press 1 to create pin\n",
    "        2. Press 2 to change pin\n",
    "        3. Press 3 to check balence\n",
    "        4. Press 4 to withdraw\n",
    "        5. Anything to exit\n",
    "        \"\"\"\n",
    "    )\n",
    "\n",
    "    if user_input == '1':\n",
    "      #create a pin\n",
    "      self.create_pin()\n",
    "\n",
    "    elif user_input == '2':\n",
    "      #change pin\n",
    "      self.change_pin()\n",
    "\n",
    "    elif user_input == '3':\n",
    "      #check balnce\n",
    "      self.check_balance()\n",
    "\n",
    "    elif user_input == '4':\n",
    "      #withdraw\n",
    "      self.withdraw()\n",
    "\n",
    "    else:\n",
    "      exit()\n",
    "\n",
    "\n",
    "  def create_pin(self):\n",
    "    user_pin = input(\"Enter your pin: \")\n",
    "    self.pin = user_pin\n",
    "\n",
    "    user_balance = int(input(\"Enter Balance: \"))\n",
    "    self.balance = user_balance\n",
    "\n",
    "    print(\"Pin Created Successfully!\")\n",
    "    # self.menu()\n",
    "\n",
    "\n",
    "  def change_pin(self):\n",
    "    old_pin = input(\"Enter old pin: \")\n",
    "\n",
    "    if old_pin == self.pin:\n",
    "      #Let change the pin\n",
    "      new_pin = input(\"Enter new pin: \")\n",
    "      self.pin = new_pin\n",
    "      print(\"Pin changed Successfully!\")\n",
    "      # self.menu()\n",
    "\n",
    "    else:\n",
    "      print(\"Sorry you entered wrong pin.\")\n",
    "      # self.menu()\n",
    "\n",
    "\n",
    "\n",
    "\n",
    "  def check_balance(self):\n",
    "    user_pin = input(\"Enter your pin: \")\n",
    "    if user_pin == self.pin:\n",
    "      print(f\"Your balance is {self.balance}\")\n",
    "    else:\n",
    "      print(\"Your pin is correct, please try again\")\n",
    "    # self.menu()\n",
    "\n",
    "\n",
    "\n",
    "  def withdraw(self):\n",
    "    user_pin = input(\"Enter your pin: \")\n",
    "    if user_pin == self.pin:\n",
    "      # Allow to withdraw\n",
    "      amount = int(input(\"Enter the amount: \"))\n",
    "      if amount <= self.balance:\n",
    "        self.balance = self.balance - amount\n",
    "        print(f\"withdraw successfull and the current balance is {self.balance}\")\n",
    "\n",
    "      else:\n",
    "        print(\"You have insufficient balance\")\n",
    "\n",
    "\n",
    "    else:\n",
    "      print(\"Your pin is wrong!\")\n",
    "    # self.menu()"
   ]
  },
  {
   "cell_type": "code",
   "execution_count": 22,
   "metadata": {},
   "outputs": [],
   "source": [
    "\n",
    "obj = Atm()"
   ]
  },
  {
   "cell_type": "code",
   "execution_count": 23,
   "metadata": {},
   "outputs": [
    {
     "name": "stdout",
     "output_type": "stream",
     "text": [
      "Pin Created Successfully!\n"
     ]
    }
   ],
   "source": [
    "obj.create_pin()"
   ]
  },
  {
   "cell_type": "code",
   "execution_count": 24,
   "metadata": {},
   "outputs": [
    {
     "name": "stdout",
     "output_type": "stream",
     "text": [
      "Your balance is 5000\n"
     ]
    }
   ],
   "source": [
    "obj.check_balance()"
   ]
  },
  {
   "cell_type": "code",
   "execution_count": 25,
   "metadata": {},
   "outputs": [],
   "source": [
    "obj.balance = \"Hello\""
   ]
  },
  {
   "cell_type": "code",
   "execution_count": 26,
   "metadata": {},
   "outputs": [
    {
     "name": "stdout",
     "output_type": "stream",
     "text": [
      "Your pin is correct, please try again\n"
     ]
    }
   ],
   "source": [
    "obj.check_balance() # here its not possible, its a mistake so it make it more secure while creating variable need to use __ bcz its an private variable"
   ]
  },
  {
   "cell_type": "code",
   "execution_count": 27,
   "metadata": {},
   "outputs": [],
   "source": [
    "class Atm:\n",
    "\n",
    "  #constructor(special function) - superpower\n",
    "  def __init__(self):\n",
    "    self.pin = \"\"\n",
    "    self.__balance = 0 # private varaible\n",
    "    # self.menu()\n",
    "\n",
    "\n",
    "  def menu(self):\n",
    "    user_input = input(\n",
    "        \"\"\"\n",
    "        Hi how can i help you?\n",
    "\n",
    "        1. Press 1 to create pin\n",
    "        2. Press 2 to change pin\n",
    "        3. Press 3 to check balence\n",
    "        4. Press 4 to withdraw\n",
    "        5. Anything to exit\n",
    "        \"\"\"\n",
    "    )\n",
    "\n",
    "    if user_input == '1':\n",
    "      #create a pin\n",
    "      self.create_pin()\n",
    "\n",
    "    elif user_input == '2':\n",
    "      #change pin\n",
    "      self.change_pin()\n",
    "\n",
    "    elif user_input == '3':\n",
    "      #check balnce\n",
    "      self.check_balance()\n",
    "\n",
    "    elif user_input == '4':\n",
    "      #withdraw\n",
    "      self.withdraw()\n",
    "\n",
    "    else:\n",
    "      exit()\n",
    "\n",
    "\n",
    "  def create_pin(self):\n",
    "    user_pin = input(\"Enter your pin: \")\n",
    "    self.pin = user_pin\n",
    "\n",
    "    user_balance = int(input(\"Enter Balance: \"))\n",
    "    self.balance = user_balance\n",
    "\n",
    "    print(\"Pin Created Successfully!\")\n",
    "    # self.menu()\n",
    "\n",
    "\n",
    "  def change_pin(self):\n",
    "    old_pin = input(\"Enter old pin: \")\n",
    "\n",
    "    if old_pin == self.pin:\n",
    "      #Let change the pin\n",
    "      new_pin = input(\"Enter new pin: \")\n",
    "      self.pin = new_pin\n",
    "      print(\"Pin changed Successfully!\")\n",
    "      # self.menu()\n",
    "\n",
    "    else:\n",
    "      print(\"Sorry you entered wrong pin.\")\n",
    "      # self.menu()\n",
    "\n",
    "\n",
    "\n",
    "\n",
    "  def check_balance(self):\n",
    "    user_pin = input(\"Enter your pin: \")\n",
    "    if user_pin == self.pin:\n",
    "      print(f\"Your balance is {self.balance}\")\n",
    "    else:\n",
    "      print(\"Your pin is incorrect, please try again\")\n",
    "    # self.menu()\n",
    "\n",
    "\n",
    "\n",
    "  def withdraw(self):\n",
    "    user_pin = input(\"Enter your pin: \")\n",
    "    if user_pin == self.pin:\n",
    "      # Allow to withdraw\n",
    "      amount = int(input(\"Enter the amount: \"))\n",
    "      if amount <= self.balance:\n",
    "        self.balance = self.balance - amount\n",
    "        print(f\"withdraw successfull and the current balance is {self.balance}\")\n",
    "\n",
    "      else:\n",
    "        print(\"You have insufficient balance\")\n",
    "\n",
    "\n",
    "    else:\n",
    "      print(\"Your pin is wrong!\")\n",
    "    # self.menu()"
   ]
  },
  {
   "cell_type": "code",
   "execution_count": 28,
   "metadata": {},
   "outputs": [],
   "source": [
    "obj2 = Atm()"
   ]
  },
  {
   "cell_type": "code",
   "execution_count": 29,
   "metadata": {},
   "outputs": [
    {
     "name": "stdout",
     "output_type": "stream",
     "text": [
      "Pin Created Successfully!\n"
     ]
    }
   ],
   "source": [
    "obj2.create_pin()"
   ]
  },
  {
   "cell_type": "code",
   "execution_count": 30,
   "metadata": {},
   "outputs": [
    {
     "name": "stdout",
     "output_type": "stream",
     "text": [
      "Your balance is 5000\n"
     ]
    }
   ],
   "source": [
    "obj2.check_balance()"
   ]
  },
  {
   "cell_type": "code",
   "execution_count": 31,
   "metadata": {},
   "outputs": [],
   "source": [
    "obj2.__balance =\"Hello\""
   ]
  },
  {
   "cell_type": "code",
   "execution_count": 33,
   "metadata": {},
   "outputs": [
    {
     "name": "stdout",
     "output_type": "stream",
     "text": [
      "Your balance is 5000\n"
     ]
    }
   ],
   "source": [
    "obj2.check_balance()"
   ]
  },
  {
   "cell_type": "code",
   "execution_count": 34,
   "metadata": {},
   "outputs": [],
   "source": [
    "obj2.balance =\"Hello\""
   ]
  },
  {
   "cell_type": "code",
   "execution_count": 35,
   "metadata": {},
   "outputs": [
    {
     "name": "stdout",
     "output_type": "stream",
     "text": [
      "Your balance is Hello\n"
     ]
    }
   ],
   "source": [
    "obj2.check_balance()"
   ]
  },
  {
   "cell_type": "code",
   "execution_count": null,
   "metadata": {},
   "outputs": [],
   "source": []
  }
 ],
 "metadata": {
  "kernelspec": {
   "display_name": "base",
   "language": "python",
   "name": "python3"
  },
  "language_info": {
   "codemirror_mode": {
    "name": "ipython",
    "version": 3
   },
   "file_extension": ".py",
   "mimetype": "text/x-python",
   "name": "python",
   "nbconvert_exporter": "python",
   "pygments_lexer": "ipython3",
   "version": "3.12.4"
  }
 },
 "nbformat": 4,
 "nbformat_minor": 2
}
